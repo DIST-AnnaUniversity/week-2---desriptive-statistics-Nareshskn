{
  "cells": [
    {
      "cell_type": "markdown",
      "metadata": {
        "id": "FssL_WBCaB7J"
      },
      "source": [
        "Q2. Student grades on a chemistry exam were: \n",
        "77, \n",
        "78\n",
        ", \n",
        "76\n",
        ", \n",
        "81\n",
        ", \n",
        "86\n",
        ", \n",
        "51\n",
        ", \n",
        "79\n",
        ", \n",
        "82\n",
        ", \n",
        "84\n",
        ", \n",
        "99\n",
        "\n",
        "\n",
        "1.Construct a stem-and-leaf plot of the data.\n",
        "\n",
        "2 .Are there any potential outliers? If so, which scores are they? Why do you consider them outliers?"
      ]
    },
    {
      "cell_type": "code",
      "execution_count": null,
      "metadata": {
        "colab": {
          "base_uri": "https://localhost:8080/",
          "height": 196
        },
        "id": "fea62sScsmc4",
        "outputId": "1291e2ee-aa87-48d2-a982-8b8178a6cb2d"
      },
      "outputs": [
        {
          "data": {
            "text/plain": [
              "(<Figure size 540x144 with 1 Axes>,\n",
              " <matplotlib.axes._axes.Axes at 0x7f4fc2596690>)"
            ]
          },
          "execution_count": 10,
          "metadata": {},
          "output_type": "execute_result"
        },
        {
          "data": {
            "image/png": "[encoded data removed]",
            "text/plain": [
              "<Figure size 540x144 with 1 Axes>"
            ]
          },
          "metadata": {
            "needs_background": "light"
          },
          "output_type": "display_data"
        }
      ],
      "source": [
        "mark = [77,78,76,81,86,51,79,82,84,99]\n",
        "st=[5,7,7,7,7,8,8,8,8,9]\n",
        "stemgraphic.stem_graphic(mark, scale = 10)\n",
        "\n"
      ]
    },
    {
      "cell_type": "code",
      "execution_count": null,
      "metadata": {
        "colab": {
          "base_uri": "https://localhost:8080/",
          "height": 354
        },
        "id": "9nheQP01RqNF",
        "outputId": "3e916def-d839-46c3-b763-c60db9761910"
      },
      "outputs": [
        {
          "name": "stderr",
          "output_type": "stream",
          "text": [
            "/usr/local/lib/python3.7/dist-packages/ipykernel_launcher.py:1: UserWarning:\n",
            "\n",
            "In Matplotlib 3.3 individual lines on a stem plot will be added as a LineCollection instead of individual lines. This significantly improves the performance of a stem plot. To remove this warning and switch to the new behaviour, set the \"use_line_collection\" keyword argument to True.\n",
            "\n"
          ]
        },
        {
          "data": {
            "image/png": "[encoded data removed]",
            "text/plain": [
              "<Figure size 432x288 with 1 Axes>"
            ]
          },
          "metadata": {
            "needs_background": "light"
          },
          "output_type": "display_data"
        }
      ],
      "source": [
        "plot.stem(st,mark)\n",
        "plot.show()"
      ]
    },
    {
      "cell_type": "markdown",
      "metadata": {
        "id": "H_3yUguVbEK4"
      },
      "source": [
        "Q2)  b\n",
        "\n",
        "Yes,there  is a outlier in the given dataset.\n",
        "\n",
        "Outlier score is 51.\n",
        "\n",
        "Because all the scores are greater than the 75."
      ]
    },
    {
      "cell_type": "code",
      "execution_count": null,
      "metadata": {
        "id": "3anhJLS6NpTp"
      },
      "outputs": [],
      "source": []
    }
  ],
  "metadata": {
    "colab": {
      "collapsed_sections": [],
      "provenance": []
    },
    "kernelspec": {
      "display_name": "Python 3.7.4 ('base')",
      "language": "python",
      "name": "python3"
    },
    "language_info": {
      "name": "python",
      "version": "3.7.4"
    },
    "vscode": {
      "interpreter": {
        "hash": "c3ca65a4c489e2a6dca5ed592ed68d12ce9a8363f55931e033c4aa6aa50a2a39"
      }
    }
  },
  "nbformat": 4,
  "nbformat_minor": 0
}
