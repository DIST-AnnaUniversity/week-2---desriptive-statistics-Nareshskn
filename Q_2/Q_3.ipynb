{
  "cells": [
    {
      "cell_type": "markdown",
      "metadata": {
        "id": "zqTUzhU-cAZg"
      },
      "source": [
        "**Q3) Construct a box plot of the data.**"
      ]
    },
    {
      "cell_type": "code",
      "execution_count": null,
      "metadata": {
        "colab": {
          "base_uri": "https://localhost:8080/",
          "height": 265
        },
        "id": "6nkfaFMj8XcE",
        "outputId": "120651b2-a8c1-458d-b782-826e4588c644"
      },
      "outputs": [
        {
          "data": {
            "image/png": "[encoded data removed]",
            "text/plain": [
              "<Figure size 432x288 with 1 Axes>"
            ]
          },
          "metadata": {
            "needs_background": "light"
          },
          "output_type": "display_data"
        }
      ],
      "source": [
        "\n",
        "box=[0,0,0,0,0,1,1,1,1,1,1,1,1,1,2,2,2,2,2,2,3,3,3,3,4]\n",
        "plot.boxplot(box)\n",
        "plot.show()"
      ]
    },
    {
      "cell_type": "markdown",
      "metadata": {
        "id": "zjRzOB-vcX0b"
      },
      "source": [
        "***Q4)Use the following information to answer the next three exercises:\n",
        "We are interested in the number of years students in a particular elementary statistics class have lived in California. ***\n",
        "\n",
        "**a) Interquartilerange**"
      ]
    },
    {
      "cell_type": "code",
      "execution_count": null,
      "metadata": {
        "colab": {
          "base_uri": "https://localhost:8080/"
        },
        "id": "bnnvjyKS8ws8",
        "outputId": "ae06aa54-e301-4a5b-f7c8-894d77f8cb11"
      },
      "outputs": [
        {
          "name": "stdout",
          "output_type": "stream",
          "text": [
            "IQR is  8.0\n"
          ]
        }
      ],
      "source": [
        "import numpy as np\n",
        "\n",
        "test=np.array([7,14,14,14,15,18,19,19,19,19,20,20,20,22,23,26,40,40,42,42])\n",
        "#calculate interquartile range \n",
        "q1 = np.percentile(test,25,interpolation='midpoint')\n",
        "q3 = np.percentile(test,75,interpolation='midpoint')\n",
        "iqr = q3-q1\n",
        "\n",
        "#display interquartile range \n",
        "print('IQR is ',iqr)"
      ]
    },
    {
      "cell_type": "markdown",
      "metadata": {
        "id": "ldN61ooVecaE"
      },
      "source": [
        "**b) Mode of the given data**"
      ]
    },
    {
      "cell_type": "code",
      "execution_count": null,
      "metadata": {
        "colab": {
          "base_uri": "https://localhost:8080/"
        },
        "id": "G0qCHyqO9l9N",
        "outputId": "b77e5f59-95b6-4b44-ddd2-d6e9cea6cf08"
      },
      "outputs": [
        {
          "name": "stdout",
          "output_type": "stream",
          "text": [
            "ModeResult(mode=array([19]), count=array([4]))\n"
          ]
        }
      ],
      "source": [
        "from scipy import stats as st\n",
        "print(st.mode(test))"
      ]
    },
    {
      "cell_type": "markdown",
      "metadata": {
        "id": "rh48-ppZfFmW"
      },
      "source": [
        "**C) The given data  is a sample data**"
      ]
    },
    {
      "cell_type": "code",
      "execution_count": null,
      "metadata": {
        "id": "3anhJLS6NpTp"
      },
      "outputs": [],
      "source": []
    }
  ],
  "metadata": {
    "colab": {
      "collapsed_sections": [],
      "provenance": []
    },
    "kernelspec": {
      "display_name": "Python 3",
      "name": "python3"
    },
    "language_info": {
      "name": "python"
    }
  },
  "nbformat": 4,
  "nbformat_minor": 0
}
