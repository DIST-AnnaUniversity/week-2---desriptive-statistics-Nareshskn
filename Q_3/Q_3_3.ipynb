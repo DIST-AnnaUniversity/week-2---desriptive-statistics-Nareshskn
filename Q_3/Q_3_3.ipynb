{
  "cells": [
    {
      "cell_type": "markdown",
      "metadata": {
        "id": "sUhGDXWDkGD-"
      },
      "source": [
        "# 3.*Outlier*"
      ]
    },
    {
      "cell_type": "code",
      "execution_count": 105,
      "metadata": {
        "colab": {
          "base_uri": "https://localhost:8080/"
        },
        "id": "vpd_OwBtkX8-",
        "outputId": "2f27cf62-3a96-4d5f-8e7a-b4758c2dd102"
      },
      "outputs": [
        {
          "name": "stdout",
          "output_type": "stream",
          "text": [
            " \n",
            "=> Outliers for  Cereals and products\n",
            " \n",
            "      284.9\n",
            "      342.8\n",
            "      203.2\n",
            "      207.4\n",
            " \n",
            "=> Outliers for  Meat and fish\n",
            " \n",
            "      103.0\n",
            "      102.0\n",
            "      124.0\n",
            " \n",
            "=> Outliers for  Egg\n",
            " \n",
            "      290.1\n",
            "      293.0\n",
            " \n",
            "=> Outliers for  Milk and products\n",
            " \n",
            "      290.4\n",
            "      294.1\n",
            "      304.4\n",
            "      359.1\n",
            "      359.6\n",
            " \n",
            "=> Outliers for  Fruits\n",
            " \n",
            "      130.2\n",
            " \n",
            "=> Outliers for  Vegetables\n",
            " \n",
            "      301.4\n",
            "      302.5\n",
            " \n",
            "=> Outliers for  Food and beverages\n",
            " \n",
            "      304.0\n",
            "      372.1\n",
            " \n",
            "=> Outliers for  Fuel and light\n",
            " \n",
            "      142.9\n",
            "      98.9\n",
            "      94.4\n",
            "      97.1\n",
            "      361.7\n",
            "      364.1\n"
          ]
        }
      ],
      "source": [
        "\n",
        "for col in dataset:\n",
        "  if(col=='Month' or col=='Year'):\n",
        "    continue\n",
        "  print(\" \")\n",
        "\n",
        "  data = dataset[col]\n",
        "  q1, q3= np.percentile(data,[25,75])\n",
        "  iqr = q3 - q1\n",
        "  lower_bound = q1 - (1.5 * iqr) \n",
        "  upper_bound = q3 + (1.5 * iqr) \n",
        "  print('=> Outliers for ',col)\n",
        "  print(\" \")\n",
        "  out = []\n",
        "  for i in data:\n",
        "    if i < lower_bound or i > upper_bound:\n",
        "      print(\"     \",i)"
      ]
    },
    {
      "cell_type": "code",
      "execution_count": null,
      "metadata": {
        "id": "tepgY37jm_tw"
      },
      "outputs": [],
      "source": []
    }
  ],
  "metadata": {
    "colab": {
      "collapsed_sections": [],
      "provenance": []
    },
    "kernelspec": {
      "display_name": "Python 3.7.4 ('base')",
      "language": "python",
      "name": "python3"
    },
    "language_info": {
      "name": "python",
      "version": "3.7.4"
    },
    "vscode": {
      "interpreter": {
        "hash": "c3ca65a4c489e2a6dca5ed592ed68d12ce9a8363f55931e033c4aa6aa50a2a39"
      }
    }
  },
  "nbformat": 4,
  "nbformat_minor": 0
}
