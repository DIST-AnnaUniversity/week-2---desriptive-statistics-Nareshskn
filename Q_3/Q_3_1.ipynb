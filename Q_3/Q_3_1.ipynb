{
  "cells": [
    {
      "cell_type": "code",
      "execution_count": 60,
      "metadata": {
        "id": "ORP91JqiOc8j"
      },
      "outputs": [],
      "source": [
        "import pandas as pd\n",
        "import numpy as np\n",
        "import matplotlib.pyplot as plt\n",
        "import seaborn as sb\n"
      ]
    },
    {
      "cell_type": "code",
      "execution_count": 61,
      "metadata": {
        "id": "q22STF9kPfoW"
      },
      "outputs": [],
      "source": [
        "from google.colab import drive"
      ]
    },
    {
      "cell_type": "code",
      "execution_count": 62,
      "metadata": {
        "id": "Cn3LGrZyw-ng"
      },
      "outputs": [],
      "source": [
        "import pandas as pd\n",
        "\n",
        "dataset=pd.read_csv('/content/example_dataset.csv')"
      ]
    },
    {
      "cell_type": "markdown",
      "metadata": {
        "id": "Tyro0jX3iuOd"
      },
      "source": [
        "**1. Central Tendency of Dataset**"
      ]
    },
    {
      "cell_type": "code",
      "execution_count": 63,
      "metadata": {
        "colab": {
          "base_uri": "https://localhost:8080/",
          "height": 206
        },
        "id": "LpLxV6QcyTpT",
        "outputId": "67bb8d3f-0469-4cfc-a99a-cf125367f4ef"
      },
      "outputs": [
        {
          "data": {
            "text/html": [
              "\n",
              "  <div id=\"df-e364443e-c8d2-49b8-9d71-1ca102970be9\">\n",
              "    <div class=\"colab-df-container\">\n",
              "      <div>\n",
              "<style scoped>\n",
              "    .dataframe tbody tr th:only-of-type {\n",
              "        vertical-align: middle;\n",
              "    }\n",
              "\n",
              "    .dataframe tbody tr th {\n",
              "        vertical-align: top;\n",
              "    }\n",
              "\n",
              "    .dataframe thead th {\n",
              "        text-align: right;\n",
              "    }\n",
              "</style>\n",
              "<table border=\"1\" class=\"dataframe\">\n",
              "  <thead>\n",
              "    <tr style=\"text-align: right;\">\n",
              "      <th></th>\n",
              "      <th>Year</th>\n",
              "      <th>Month</th>\n",
              "      <th>Cereals and products</th>\n",
              "      <th>Meat and fish</th>\n",
              "      <th>Egg</th>\n",
              "      <th>Milk and products</th>\n",
              "      <th>Fruits</th>\n",
              "      <th>Vegetables</th>\n",
              "      <th>Food and beverages</th>\n",
              "      <th>Fuel and light</th>\n",
              "    </tr>\n",
              "  </thead>\n",
              "  <tbody>\n",
              "    <tr>\n",
              "      <th>0</th>\n",
              "      <td>2021</td>\n",
              "      <td>January</td>\n",
              "      <td>143.4</td>\n",
              "      <td>187.5</td>\n",
              "      <td>173.4</td>\n",
              "      <td>154.0</td>\n",
              "      <td>147.0</td>\n",
              "      <td>187.8</td>\n",
              "      <td>159.6</td>\n",
              "      <td>150.9</td>\n",
              "    </tr>\n",
              "    <tr>\n",
              "      <th>1</th>\n",
              "      <td>2021</td>\n",
              "      <td>January</td>\n",
              "      <td>148.0</td>\n",
              "      <td>194.8</td>\n",
              "      <td>178.4</td>\n",
              "      <td>290.4</td>\n",
              "      <td>152.6</td>\n",
              "      <td>206.8</td>\n",
              "      <td>163.4</td>\n",
              "      <td>142.9</td>\n",
              "    </tr>\n",
              "    <tr>\n",
              "      <th>2</th>\n",
              "      <td>2021</td>\n",
              "      <td>January</td>\n",
              "      <td>284.9</td>\n",
              "      <td>190.1</td>\n",
              "      <td>175.3</td>\n",
              "      <td>294.1</td>\n",
              "      <td>149.6</td>\n",
              "      <td>194.2</td>\n",
              "      <td>161.0</td>\n",
              "      <td>98.9</td>\n",
              "    </tr>\n",
              "    <tr>\n",
              "      <th>3</th>\n",
              "      <td>2021</td>\n",
              "      <td>February</td>\n",
              "      <td>342.8</td>\n",
              "      <td>184.0</td>\n",
              "      <td>168.0</td>\n",
              "      <td>304.4</td>\n",
              "      <td>147.8</td>\n",
              "      <td>149.7</td>\n",
              "      <td>154.7</td>\n",
              "      <td>94.4</td>\n",
              "    </tr>\n",
              "    <tr>\n",
              "      <th>4</th>\n",
              "      <td>2021</td>\n",
              "      <td>February</td>\n",
              "      <td>147.6</td>\n",
              "      <td>191.2</td>\n",
              "      <td>169.9</td>\n",
              "      <td>155.1</td>\n",
              "      <td>154.0</td>\n",
              "      <td>180.2</td>\n",
              "      <td>160.8</td>\n",
              "      <td>97.1</td>\n",
              "    </tr>\n",
              "  </tbody>\n",
              "</table>\n",
              "</div>\n",
              "      <button class=\"colab-df-convert\" onclick=\"convertToInteractive('df-e364443e-c8d2-49b8-9d71-1ca102970be9')\"\n",
              "              title=\"Convert this dataframe to an interactive table.\"\n",
              "              style=\"display:none;\">\n",
              "        \n",
              "  <svg xmlns=\"http://www.w3.org/2000/svg\" height=\"24px\"viewBox=\"0 0 24 24\"\n",
              "       width=\"24px\">\n",
              "    <path d=\"M0 0h24v24H0V0z\" fill=\"none\"/>\n",
              "    <path d=\"M18.56 5.44l.94 2.06.94-2.06 2.06-.94-2.06-.94-.94-2.06-.94 2.06-2.06.94zm-11 1L8.5 8.5l.94-2.06 2.06-.94-2.06-.94L8.5 2.5l-.94 2.06-2.06.94zm10 10l.94 2.06.94-2.06 2.06-.94-2.06-.94-.94-2.06-.94 2.06-2.06.94z\"/><path d=\"M17.41 7.96l-1.37-1.37c-.4-.4-.92-.59-1.43-.59-.52 0-1.04.2-1.43.59L10.3 9.45l-7.72 7.72c-.78.78-.78 2.05 0 2.83L4 21.41c.39.39.9.59 1.41.59.51 0 1.02-.2 1.41-.59l7.78-7.78 2.81-2.81c.8-.78.8-2.07 0-2.86zM5.41 20L4 18.59l7.72-7.72 1.47 1.35L5.41 20z\"/>\n",
              "  </svg>\n",
              "      </button>\n",
              "      \n",
              "  <style>\n",
              "    .colab-df-container {\n",
              "      display:flex;\n",
              "      flex-wrap:wrap;\n",
              "      gap: 12px;\n",
              "    }\n",
              "\n",
              "    .colab-df-convert {\n",
              "      background-color: #E8F0FE;\n",
              "      border: none;\n",
              "      border-radius: 50%;\n",
              "      cursor: pointer;\n",
              "      display: none;\n",
              "      fill: #1967D2;\n",
              "      height: 32px;\n",
              "      padding: 0 0 0 0;\n",
              "      width: 32px;\n",
              "    }\n",
              "\n",
              "    .colab-df-convert:hover {\n",
              "      background-color: #E2EBFA;\n",
              "      box-shadow: 0px 1px 2px rgba(60, 64, 67, 0.3), 0px 1px 3px 1px rgba(60, 64, 67, 0.15);\n",
              "      fill: #174EA6;\n",
              "    }\n",
              "\n",
              "    [theme=dark] .colab-df-convert {\n",
              "      background-color: #3B4455;\n",
              "      fill: #D2E3FC;\n",
              "    }\n",
              "\n",
              "    [theme=dark] .colab-df-convert:hover {\n",
              "      background-color: #434B5C;\n",
              "      box-shadow: 0px 1px 3px 1px rgba(0, 0, 0, 0.15);\n",
              "      filter: drop-shadow(0px 1px 2px rgba(0, 0, 0, 0.3));\n",
              "      fill: #FFFFFF;\n",
              "    }\n",
              "  </style>\n",
              "\n",
              "      <script>\n",
              "        const buttonEl =\n",
              "          document.querySelector('#df-e364443e-c8d2-49b8-9d71-1ca102970be9 button.colab-df-convert');\n",
              "        buttonEl.style.display =\n",
              "          google.colab.kernel.accessAllowed ? 'block' : 'none';\n",
              "\n",
              "        async function convertToInteractive(key) {\n",
              "          const element = document.querySelector('#df-e364443e-c8d2-49b8-9d71-1ca102970be9');\n",
              "          const dataTable =\n",
              "            await google.colab.kernel.invokeFunction('convertToInteractive',\n",
              "                                                     [key], {});\n",
              "          if (!dataTable) return;\n",
              "\n",
              "          const docLinkHtml = 'Like what you see? Visit the ' +\n",
              "            '<a target=\"_blank\" href=https://colab.research.google.com/notebooks/data_table.ipynb>data table notebook</a>'\n",
              "            + ' to learn more about interactive tables.';\n",
              "          element.innerHTML = '';\n",
              "          dataTable['output_type'] = 'display_data';\n",
              "          await google.colab.output.renderOutput(dataTable, element);\n",
              "          const docLink = document.createElement('div');\n",
              "          docLink.innerHTML = docLinkHtml;\n",
              "          element.appendChild(docLink);\n",
              "        }\n",
              "      </script>\n",
              "    </div>\n",
              "  </div>\n",
              "  "
            ],
            "text/plain": [
              "   Year     Month  Cereals and products  Meat and fish    Egg  \\\n",
              "0  2021   January                 143.4          187.5  173.4   \n",
              "1  2021   January                 148.0          194.8  178.4   \n",
              "2  2021   January                 284.9          190.1  175.3   \n",
              "3  2021  February                 342.8          184.0  168.0   \n",
              "4  2021  February                 147.6          191.2  169.9   \n",
              "\n",
              "   Milk and products  Fruits  Vegetables  Food and beverages  Fuel and light  \n",
              "0              154.0   147.0       187.8               159.6           150.9  \n",
              "1              290.4   152.6       206.8               163.4           142.9  \n",
              "2              294.1   149.6       194.2               161.0            98.9  \n",
              "3              304.4   147.8       149.7               154.7            94.4  \n",
              "4              155.1   154.0       180.2               160.8            97.1  "
            ]
          },
          "execution_count": 63,
          "metadata": {},
          "output_type": "execute_result"
        }
      ],
      "source": [
        "dataset.head()"
      ]
    },
    {
      "cell_type": "code",
      "execution_count": 64,
      "metadata": {
        "colab": {
          "base_uri": "https://localhost:8080/"
        },
        "id": "yROYqCD3zz-S",
        "outputId": "cedbd80c-1278-4e90-faad-83f3c736154a"
      },
      "outputs": [
        {
          "name": "stderr",
          "output_type": "stream",
          "text": [
            "/usr/local/lib/python3.7/dist-packages/ipykernel_launcher.py:1: FutureWarning: Dropping of nuisance columns in DataFrame reductions (with 'numeric_only=None') is deprecated; in a future version this will raise TypeError.  Select only valid columns before calling the reduction.\n",
            "  \"\"\"Entry point for launching an IPython kernel.\n"
          ]
        },
        {
          "data": {
            "text/plain": [
              "Year                    2021.000000\n",
              "Cereals and products     159.347222\n",
              "Meat and fish            191.800000\n",
              "Egg                      179.805556\n",
              "Milk and products        179.963889\n",
              "Fruits                   156.980556\n",
              "Vegetables               177.127778\n",
              "Food and beverages       173.005556\n",
              "Fuel and light           165.347222\n",
              "dtype: float64"
            ]
          },
          "execution_count": 64,
          "metadata": {},
          "output_type": "execute_result"
        }
      ],
      "source": [
        "dataset.mean()"
      ]
    },
    {
      "cell_type": "code",
      "execution_count": 65,
      "metadata": {
        "colab": {
          "base_uri": "https://localhost:8080/"
        },
        "id": "lwEhxEY5gB7f",
        "outputId": "42d6cf39-62fb-45b8-9174-733f3b06face"
      },
      "outputs": [
        {
          "name": "stderr",
          "output_type": "stream",
          "text": [
            "/usr/local/lib/python3.7/dist-packages/ipykernel_launcher.py:1: FutureWarning: Dropping of nuisance columns in DataFrame reductions (with 'numeric_only=None') is deprecated; in a future version this will raise TypeError.  Select only valid columns before calling the reduction.\n",
            "  \"\"\"Entry point for launching an IPython kernel.\n"
          ]
        },
        {
          "data": {
            "text/plain": [
              "Year                    2021.00\n",
              "Cereals and products     147.15\n",
              "Meat and fish            199.95\n",
              "Egg                      173.20\n",
              "Milk and products        157.75\n",
              "Fruits                   156.65\n",
              "Vegetables               168.45\n",
              "Food and beverages       163.70\n",
              "Fuel and light           160.70\n",
              "dtype: float64"
            ]
          },
          "execution_count": 65,
          "metadata": {},
          "output_type": "execute_result"
        }
      ],
      "source": [
        "dataset.median()"
      ]
    },
    {
      "cell_type": "code",
      "execution_count": 74,
      "metadata": {
        "colab": {
          "base_uri": "https://localhost:8080/"
        },
        "id": "06nPoUfhgFag",
        "outputId": "5c783ef5-73cc-4ad9-bba1-1b93b473dd6a"
      },
      "outputs": [
        {
          "name": "stdout",
          "output_type": "stream",
          "text": [
            "Egg\tNo unique mode found\n",
            "Fruits\tNo unique mode found\n",
            "Vegetables\tNo unique mode found\n",
            "Fuel and light\tNo unique mode found\n",
            "Cereals and products\tNo unique mode found\n",
            "Milk and products\tNo unique mode found\n"
          ]
        }
      ],
      "source": [
        "import statistics\n",
        "from statistics import StatisticsError\n",
        "for col in dataset:\n",
        "  print(col, end=\"\\t\")\n",
        "  try:\n",
        "    modedata=statistics.mode(dataset[col])\n",
        "  except StatisticsError:\n",
        "    print (\"No unique mode found\")\n"
      ]
    }
  ],
  "metadata": {
    "colab": {
      "provenance": []
    },
    "kernelspec": {
      "display_name": "Python 3",
      "name": "python3"
    },
    "language_info": {
      "name": "python"
    }
  },
  "nbformat": 4,
  "nbformat_minor": 0
}
